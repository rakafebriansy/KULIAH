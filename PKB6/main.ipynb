{
 "cells": [
  {
   "cell_type": "code",
   "execution_count": 7,
   "metadata": {},
   "outputs": [
    {
     "name": "stderr",
     "output_type": "stream",
     "text": [
      "c:\\Users\\Raka\\AppData\\Local\\Programs\\Python\\Python310\\lib\\site-packages\\sklearn\\utils\\validation.py:1184: DataConversionWarning: A column-vector y was passed when a 1d array was expected. Please change the shape of y to (n_samples, ), for example using ravel().\n",
      "  y = column_or_1d(y, warn=True)\n"
     ]
    }
   ],
   "source": [
    "import pandas,numpy\n",
    "from sklearn.model_selection import train_test_split   \n",
    "from sklearn.svm import SVC\n",
    "from sklearn.metrics import classification_report\n",
    "from sklearn.preprocessing import LabelBinarizer\n",
    "\n",
    "data = pandas.read_csv(\"adult.csv\")\n",
    "\n",
    "X = numpy.array(data[\"capital.loss\"])\n",
    "y = numpy.array(data[\"sex\"]) #0 = Female, 1 = Male\n",
    "lb = LabelBinarizer()\n",
    "y = lb.fit_transform(y).flatten()\n",
    "X_train, X_test, y_train, y_test = train_test_split(X,y,test_size=0.3,random_state=1)\n",
    "model = SVC(kernel='poly', C=1.0, random_state=42)\n",
    "model.fit(X_train.reshape(-1,1),y_train.reshape(-1,1))\n",
    "\n",
    "y_pred = model.predict(X_test.reshape(-1,1))\n",
    "print(classification_report(y_test.reshape(-1,1), y_pred))"
   ]
  },
  {
   "cell_type": "code",
   "execution_count": null,
   "metadata": {},
   "outputs": [],
   "source": [
    "y_pred = model.predict(X_test.reshape(-1,1))\n",
    "print(classification_report(y_test.reshape(-1,1), y_pred))"
   ]
  }
 ],
 "metadata": {
  "kernelspec": {
   "display_name": "Python 3",
   "language": "python",
   "name": "python3"
  },
  "language_info": {
   "codemirror_mode": {
    "name": "ipython",
    "version": 3
   },
   "file_extension": ".py",
   "mimetype": "text/x-python",
   "name": "python",
   "nbconvert_exporter": "python",
   "pygments_lexer": "ipython3",
   "version": "3.10.11"
  }
 },
 "nbformat": 4,
 "nbformat_minor": 2
}
